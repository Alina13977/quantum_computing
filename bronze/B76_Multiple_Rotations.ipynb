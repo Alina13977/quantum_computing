{
 "cells": [
  {
   "cell_type": "markdown",
   "metadata": {},
   "source": [
    "<table>\n",
    "    <tr>\n",
    "        <td  style=\"background-color:#ffffff;\"><a href=\"https://qsoftware.lu.lv/index.php/qworld/\" target=\"_blank\"><img src=\"..\\images\\qworld.jpg\" width=\"70%\" align=\"left\"></a></td>\n",
    "        <td style=\"background-color:#ffffff;\" width=\"*\"></td>\n",
    "        <td  style=\"background-color:#ffffff;vertical-align:text-top;\"><a href=\"https://qsoftware.lu.lv\" target=\"_blank\"><img src=\"..\\images\\logo.jpg\" width=\"25%\" align=\"right\"></a></td>        \n",
    "    </tr>\n",
    "    <tr><td colspan=\"3\" align=\"right\" style=\"color:#777777;background-color:#ffffff;font-size:12px;\">\n",
    "        prepared by <a href=\"http://abu.lu.lv\" target=\"_blank\">Abuzer Yakaryilmaz</a>\n",
    "    </td></tr>\n",
    "    <tr><td colspan=\"3\" align=\"right\" style=\"color:#bbbbbb;background-color:#ffffff;font-size:11px;font-style:italic;\">\n",
    "        This cell contains some macros. If there is a problem with displaying mathematical formulas, please run this cell to load these macros.\n",
    "    </td></tr>\n",
    "</table>\n",
    "$ \\newcommand{\\bra}[1]{\\langle #1|} $\n",
    "$ \\newcommand{\\ket}[1]{|#1\\rangle} $\n",
    "$ \\newcommand{\\braket}[2]{\\langle #1|#2\\rangle} $\n",
    "$ \\newcommand{\\dot}[2]{ #1 \\cdot #2} $\n",
    "$ \\newcommand{\\biginner}[2]{\\left\\langle #1,#2\\right\\rangle} $\n",
    "$ \\newcommand{\\mymatrix}[2]{\\left( \\begin{array}{#1} #2\\end{array} \\right)} $\n",
    "$ \\newcommand{\\myvector}[1]{\\mymatrix{c}{#1}} $\n",
    "$ \\newcommand{\\myrvector}[1]{\\mymatrix{r}{#1}} $\n",
    "$ \\newcommand{\\mypar}[1]{\\left( #1 \\right)} $\n",
    "$ \\newcommand{\\mybigpar}[1]{ \\Big( #1 \\Big)} $\n",
    "$ \\newcommand{\\sqrttwo}{\\frac{1}{\\sqrt{2}}} $\n",
    "$ \\newcommand{\\dsqrttwo}{\\dfrac{1}{\\sqrt{2}}} $\n",
    "$ \\newcommand{\\onehalf}{\\frac{1}{2}} $\n",
    "$ \\newcommand{\\donehalf}{\\dfrac{1}{2}} $\n",
    "$ \\newcommand{\\hadamard}{ \\mymatrix{rr}{ \\sqrttwo & \\sqrttwo \\\\ \\sqrttwo & -\\sqrttwo }} $\n",
    "$ \\newcommand{\\vzero}{\\myvector{1\\\\0}} $\n",
    "$ \\newcommand{\\vone}{\\myvector{0\\\\1}} $\n",
    "$ \\newcommand{\\vhadamardzero}{\\myvector{ \\sqrttwo \\\\  \\sqrttwo } } $\n",
    "$ \\newcommand{\\vhadamardone}{ \\myrvector{ \\sqrttwo \\\\ -\\sqrttwo } } $\n",
    "$ \\newcommand{\\myarray}[2]{ \\begin{array}{#1}#2\\end{array}} $\n",
    "$ \\newcommand{\\X}{ \\mymatrix{cc}{0 & 1 \\\\ 1 & 0}  } $\n",
    "$ \\newcommand{\\Z}{ \\mymatrix{rr}{1 & 0 \\\\ 0 & -1}  } $\n",
    "$ \\newcommand{\\Htwo}{ \\mymatrix{rrrr}{ \\frac{1}{2} & \\frac{1}{2} & \\frac{1}{2} & \\frac{1}{2} \\\\ \\frac{1}{2} & -\\frac{1}{2} & \\frac{1}{2} & -\\frac{1}{2} \\\\ \\frac{1}{2} & \\frac{1}{2} & -\\frac{1}{2} & -\\frac{1}{2} \\\\ \\frac{1}{2} & -\\frac{1}{2} & -\\frac{1}{2} & \\frac{1}{2} } } $\n",
    "$ \\newcommand{\\CNOT}{ \\mymatrix{cccc}{1 & 0 & 0 & 0 \\\\ 0 & 1 & 0 & 0 \\\\ 0 & 0 & 0 & 1 \\\\ 0 & 0 & 1 & 0} } $\n",
    "$ \\newcommand{\\norm}[1]{ \\left\\lVert #1 \\right\\rVert } $"
   ]
  },
  {
   "cell_type": "markdown",
   "metadata": {},
   "source": [
    "<h2>Multiple Rotations</h2>"
   ]
  },
  {
   "cell_type": "markdown",
   "metadata": {},
   "source": [
    "The trivial way of implementing more than one rotation in parallel is to use a separate qubit for each rotation.\n",
    "\n",
    "If we have $ t $ different rotations with angles $ \\theta_1,\\ldots,\\theta_t $, then we can use $ t $ qubits.\n",
    "\n",
    "Alternatively, we can use $ \\log_2 (t) + 1 $ qubits (assuming that $t$ is a power of 2) that implement the following unitary matrix:"
   ]
  },
  {
   "cell_type": "markdown",
   "metadata": {},
   "source": [
    "$$\n",
    "    R(\\theta_1,\\ldots,\\theta_t) = \n",
    "    \\mymatrix{rr|rr|cc|rr}{\n",
    "        \\cos \\theta_1 & -\\sin \\theta_1 & 0 & 0 & \\cdots & \\cdots & 0 & 0 \\\\ \n",
    "        \\sin \\theta_1 & \\cos \\theta_1 & 0 & 0 & \\cdots & \\cdots & 0 & 0 \\\\ \\hline\n",
    "        0 & 0 & \\cos \\theta_2 & -\\sin \\theta_2 & \\cdots & \\cdots  & 0 & 0  \\\\ \n",
    "        0 & 0 & \\sin \\theta_2 & \\cos \\theta_2 & \\cdots & \\cdots  & 0 & 0 \\\\ \\hline\n",
    "        \\vdots & \\vdots & \\vdots & \\vdots & \\ddots & & \\vdots & \\vdots \\\\ \n",
    "        \\vdots & \\vdots & \\vdots & \\vdots & & \\ddots & \\vdots & \\vdots \\\\ \\hline\n",
    "        0 & 0 & 0 & 0 & \\cdots & \\cdots & \\cos \\theta_t & -\\sin \\theta_t \\\\ \n",
    "        0 & 0 & 0 & 0 & \\cdots & \\cdots & \\sin \\theta_t & \\cos \\theta_t \\\\ \n",
    "    } .\n",
    "$$"
   ]
  },
  {
   "cell_type": "markdown",
   "metadata": {},
   "source": [
    "We can use this idea to solve the problem $\\sf MOD_p$ (see <a href=\"B72_Rotation_Automata.ipynb\" target=\"_blank\">Rotation Automata</a>). \n",
    "\n",
    "We implement $ t $ rotation automata in this way.\n",
    "\n",
    "At the beginning of the computation, we apply Hadamard operator in each qubit. Then, we apply the operator $ R(\\theta_1,\\ldots,\\theta_t) $ for each symbol from the stream. Once the stream is finished, we apply Hadamard operator in each qubit again. \n",
    "\n",
    "If we observe only state 0 in each qubit, then we consider the stream having the length of a multiple of $\\sf p$. Otherwise, we consider the stream having the length of not a multiple of $\\sf p$."
   ]
  },
  {
   "cell_type": "markdown",
   "metadata": {},
   "source": [
    "<h3> Constructing $ R(\\theta_1,\\theta_2) $ </h3>"
   ]
  },
  {
   "cell_type": "markdown",
   "metadata": {},
   "source": [
    "When $t=2$, $ \\log_2 (2) + 1 = 2 $. So, both implementations use the same number of qubits.\n",
    "\n",
    "But, it is a good starting point to construct the following unitary operator:"
   ]
  },
  {
   "cell_type": "markdown",
   "metadata": {},
   "source": [
    "$$\n",
    "    R(\\theta_1,\\theta_2) =\n",
    "    \\mymatrix{rrrr}{ \n",
    "        \\cos \\theta_1 & -\\sin \\theta_1 & 0 & 0 \\\\\n",
    "        \\sin \\theta_1 & \\cos \\theta_1 & 0 & 0 \\\\\n",
    "        0 & 0 & \\cos \\theta_2 & -\\sin \\theta_2 \\\\\n",
    "        0 & 0 & \\sin \\theta_2 & \\cos \\theta_2 \\\\\n",
    "    } .\n",
    "$$"
   ]
  },
  {
   "cell_type": "markdown",
   "metadata": {},
   "source": [
    "<div style=\"background-color:#f8f8f8;\">\n",
    "<b> Technical Remark:</b>\n",
    "\n",
    "When two qubits are combined (tensored) in qiskit, say $  qreg[0] $ and $ qreg[1] $, they are ordered as $ qreg[1] \\otimes qreg[0] $.\n",
    "\n",
    "If there are $n$ qubits, say $ qreg[0],\\ldots,qreg[n-1] $ to be combined, they are ordered in qiskit as \n",
    "\n",
    "$$ qreg[n-1] \\otimes \\cdots \\otimes qreg[0] .  $$\n",
    "</div>"
   ]
  },
  {
   "cell_type": "markdown",
   "metadata": {},
   "source": [
    "We use a controlled rotation gate $ cu3 $ in qiskit. \n",
    "\n",
    "<b> Gate $u3$: </b>\n",
    "\n",
    "The gate $ u3 $ is a generic one-qubit gate for rotation on Bloch sphere. It takes three parameters, and if we pass zeros as the second and third parameters, we implement our rotation gate $ ry $:\n",
    "\n",
    "    u3(2*theta,0,0,qubit)\n",
    "is equivalent to\n",
    "\n",
    "    ry(2*theta,qubit)\n",
    "Both make a rotation with angle $\\theta$ in the real-valued qubit in counter-clockwise direction."
   ]
  },
  {
   "cell_type": "markdown",
   "metadata": {},
   "source": [
    "<b> Gate $cu3$: </b>\n",
    "\n",
    "The two-qubit gate $ cu3 $ takes five parameters. We use it as follows:\n",
    "\n",
    "    cu3(2*theta,0,0,control_qubit,target_qubit)\n",
    "If the control qubit is in state $ \\ket{1} $, then the rotation\n",
    "    \n",
    "    ry(2*theta,target_qubit)\n",
    "is applied (to the target qubit).   "
   ]
  },
  {
   "cell_type": "markdown",
   "metadata": {},
   "source": [
    "The base states of two qubits are ordered as $ \\myarray{c}{00 \\\\ 01 \\\\ 10 \\\\ 11 } $ \n",
    "or equivalently grouped as $ \\myarray{c}{ 0 \\otimes \\myvector{0 \\\\ 1} \\\\ \\hline 1 \\otimes \\myvector{0 \\\\ 1} } $. \n",
    "\n",
    "We can apply a rotation to the first qubit controlled by the second qubit.\n",
    "\n",
    "To construct $ R(\\theta_1,\\theta_2) $:\n",
    "<ol>\n",
    "    <li> When the second qubit is in state $ \\ket{0} $, we can apply the rotation with angle $ \\theta_1 $. </li>\n",
    "    <li> When the second qubit is in state $ \\ket{1} $, we can apply the rotation with angle $ \\theta_2 $. </li>\n",
    "</ol>\n",
    "\n",
    "Now, we implement this by also printing the constructed unitary matrix."
   ]
  },
  {
   "cell_type": "code",
   "execution_count": 2,
   "metadata": {},
   "outputs": [
    {
     "name": "stdout",
     "output_type": "stream",
     "text": [
      "   0.707  -0.707     0.0     0.0\n",
      "   0.707   0.707     0.0     0.0\n",
      "     0.0     0.0   0.866    -0.5\n",
      "     0.0     0.0     0.5   0.866\n"
     ]
    }
   ],
   "source": [
    "from qiskit import QuantumRegister, ClassicalRegister, QuantumCircuit, execute, Aer\n",
    "from math import pi\n",
    "\n",
    "# the angles of rotations\n",
    "theta1 = pi/4\n",
    "theta2 = pi/6\n",
    "\n",
    "# the circuit with two qubits\n",
    "qreg = QuantumRegister(2) \n",
    "creg = ClassicalRegister(2) \n",
    "mycircuit = QuantumCircuit(qreg,creg)\n",
    "\n",
    "\n",
    "# when the second qubit is in |0>, the first qubit is rotated by theta1\n",
    "mycircuit.x(qreg[1])\n",
    "mycircuit.cu3(2*theta1,0,0,qreg[1],qreg[0])\n",
    "mycircuit.x(qreg[1])\n",
    "\n",
    "# when the second qubit is in |1>, the first qubit is rotated by theta2\n",
    "mycircuit.cu3(2*theta2,0,0,qreg[1],qreg[0])\n",
    "              \n",
    "# we read the unitary matrix\n",
    "job = execute(mycircuit,Aer.get_backend('unitary_simulator'),optimization_level=0)\n",
    "u=job.result().get_unitary(mycircuit,decimals=3)\n",
    "# we print the unitary matrix in nice format\n",
    "for i in range(len(u)):\n",
    "    s=\"\"\n",
    "    for j in range(len(u)):\n",
    "        val = str(u[i][j].real)\n",
    "        while(len(val)<8): val  = \" \"+val\n",
    "        s = s + val\n",
    "    print(s)\n",
    "    \n",
    "\n"
   ]
  },
  {
   "cell_type": "markdown",
   "metadata": {},
   "source": [
    "<h3>Task 1</h3>\n",
    "\n",
    "Verify that the printed matrix is $ R(\\pi/4,\\pi/6) $."
   ]
  },
  {
   "cell_type": "code",
   "execution_count": 3,
   "metadata": {},
   "outputs": [
    {
     "name": "stdout",
     "output_type": "stream",
     "text": [
      "0.707 -0.707 0 0\n",
      "0.707 -0.707 0 0\n",
      "0 0 0.866 -0.5\n",
      "0 0 0.5 -0.866\n"
     ]
    }
   ],
   "source": [
    "from math import pi, sin, cos\n",
    "\n",
    "theta1 = pi/4\n",
    "theta2 = pi/6\n",
    "\n",
    "print(round(cos(theta1),3),-round(sin(theta1),3),0,0)\n",
    "print(round(sin(theta1),3),-round(cos(theta1),3),0,0)\n",
    "print(0,0,round(cos(theta2),3),-round(sin(theta2),3))\n",
    "print(0,0,round(sin(theta2),3),-round(cos(theta2),3))"
   ]
  },
  {
   "cell_type": "markdown",
   "metadata": {},
   "source": [
    "<a href=\"B76_Multiple_Rotations_Solutions.ipynb#task1\">click for our solution</a>"
   ]
  },
  {
   "cell_type": "markdown",
   "metadata": {},
   "source": [
    "<h3> Constructing $ R(\\theta_1,\\theta_2,\\theta_3,\\theta_4) $ </h3>"
   ]
  },
  {
   "cell_type": "markdown",
   "metadata": {},
   "source": [
    "We can use $ \\log_2(4) + 1 = 3 $ qubits to construct $ R(\\theta_1,\\theta_2,\\theta_3,\\theta_4) $."
   ]
  },
  {
   "cell_type": "markdown",
   "metadata": {},
   "source": [
    "The base states of three qubits are ordered as $ \\myarray{c}{000 \\\\ 001 \\\\ 010 \\\\ 011 \\\\ 100 \\\\ 101 \\\\ 110 \\\\ 111 } $ \n",
    "or equivalently grouped as $ \n",
    "    \\myarray{c}{ \n",
    "    00 \\otimes \\myvector{0 \\\\ 1} \\\\ \\hline \n",
    "    01 \\otimes \\myvector{0 \\\\ 1} \\\\ \\hline \n",
    "    10 \\otimes \\myvector{0 \\\\ 1}  \\\\ \\hline \n",
    "    11 \\otimes \\myvector{0 \\\\ 1} \n",
    "    } $. "
   ]
  },
  {
   "cell_type": "markdown",
   "metadata": {},
   "source": [
    "By using a rotation gate controlled by two qubits, we can easily implement our unitary operator.\n",
    "\n",
    "But, if we have a rotation gate controlled by only one qubit, then we use additional tricks (and qubits) and controlled CNOT gate by two qubits (also called Toffoli gate):\n",
    "\n",
    "    circuit.ccx(control-qubit1,control-qubit2,target-qubit)\n",
    "<div style=\"background-color:#f9f9f9;\">\n",
    "In general, if $ t = 2^n $, then we can construct $ R(\\theta_1,\\ldots,\\theta_t) $ by using no more than $ 2\\log_2(t) $ qubits (instead of $t$ qubits). \n",
    "</div>"
   ]
  },
  {
   "cell_type": "markdown",
   "metadata": {},
   "source": [
    "<h3> Pseudo construction </h3>\n",
    "    \n",
    "We start with a construction using three angles."
   ]
  },
  {
   "cell_type": "markdown",
   "metadata": {},
   "source": [
    "<h3> Task 2</h3>\n",
    "\n",
    "Consider a quantum circuit with 3 qubits.\n",
    "\n",
    "When the third qubit is in state $ \\ket{1} $, apply the gate \n",
    "\n",
    "    cu3(2*theta1,0,0,qreg[2],qreg[0]) \n",
    "\n",
    "When the second qubit is in state $ \\ket{1} $, apply the gate\n",
    "    \n",
    "    cu3(2*theta2,0,0,qreg[1],qreg[0])\n",
    "    \n",
    "When the third qubit is in state $ \\ket{0} $, apply the gate\n",
    "\n",
    "    cu3(2*theta3,0,0,qreg[2],qreg[0])\n",
    "\n",
    "Guess the corresponding unitary matrix, which should be of the form:\n",
    "\n",
    "$$\n",
    "    \\mymatrix{rr|rr|rr|rr}{\n",
    "        \\cos a_1 & -\\sin a_1 & 0 & 0 & 0 & 0 & 0 & 0 \\\\\n",
    "        \\sin a_1 & \\cos a_1 & 0 & 0 & 0 & 0 & 0 & 0 \\\\ \\hline\n",
    "        0 & 0 & \\cos a_2 & -\\sin a_2 & 0 & 0 & 0 & 0  \\\\\n",
    "         0 & 0 & \\sin a_2 & \\cos a_2 & 0 & 0 & 0 & 0 \\\\ \\hline\n",
    "        0 & 0 & 0 & 0 & \\cos a_3 & -\\sin a_3 & 0 & 0  \\\\\n",
    "         0 & 0 & 0 & 0 & \\sin a_3 & \\cos a_3 & 0 & 0  \\\\ \\hline\n",
    "        0 & 0 & 0 & 0 & 0 & 0 & \\cos a_4 & -\\sin a_4 \\\\\n",
    "        0 & 0 & 0 & 0 & 0 & 0 & \\sin a_4 & \\cos a_4 \\\\ \n",
    "    }\n",
    "$$\n",
    "\n",
    "In other words, find $a_1$, $ a_2 $, $a_3$, and $a_4$ in terms of $ \\theta_1 $, $\\theta_2$, and $ \\theta_3 $."
   ]
  },
  {
   "cell_type": "markdown",
   "metadata": {},
   "source": [
    "<a href=\"B76_Multiple_Rotations_Solutions.ipynb#task2\">click for our solution</a>"
   ]
  },
  {
   "cell_type": "markdown",
   "metadata": {},
   "source": [
    "<h3>Task 3</h3>\n",
    "\n",
    "Implement Task 2 by picking three angles, and verify the constructed matrix."
   ]
  },
  {
   "cell_type": "code",
   "execution_count": 4,
   "metadata": {},
   "outputs": [
    {
     "name": "stdout",
     "output_type": "stream",
     "text": [
      "a1 = theta3 => sin(a1) =  0.52\n",
      "a2 = theta2+theta3 => sin(a2) =  0.731\n",
      "a3 = theta1 => sin(a3) =  0.136\n",
      "a4 = theta1+theta2 => sin(a4) =  0.398\n",
      "\n",
      "  0.854  -0.52    0.0    0.0    0.0    0.0    0.0    0.0\n",
      "   0.52  0.854    0.0    0.0    0.0    0.0    0.0    0.0\n",
      "    0.0    0.0  0.683 -0.731    0.0    0.0    0.0    0.0\n",
      "    0.0    0.0  0.731  0.683    0.0    0.0    0.0    0.0\n",
      "    0.0    0.0    0.0    0.0  0.991 -0.136    0.0    0.0\n",
      "    0.0    0.0    0.0    0.0  0.136  0.991    0.0    0.0\n",
      "    0.0    0.0    0.0    0.0    0.0    0.0  0.917 -0.398\n",
      "    0.0    0.0    0.0    0.0    0.0    0.0  0.398  0.917\n"
     ]
    }
   ],
   "source": [
    "from qiskit import QuantumRegister, ClassicalRegister, QuantumCircuit, execute, Aer\n",
    "from math import pi, sin, cos\n",
    "\n",
    "# the angle of rotation\n",
    "theta1 = pi/23\n",
    "theta2 = 2*pi/23\n",
    "theta3 = 4*pi/23\n",
    "\n",
    "\n",
    "precision = 3\n",
    "\n",
    "print(\"a1 = theta3 => sin(a1) = \",round(sin(theta3),precision))\n",
    "print(\"a2 = theta2+theta3 => sin(a2) = \",round(sin(theta2+theta3),precision))\n",
    "print(\"a3 = theta1 => sin(a3) = \",round(sin(theta1),precision))\n",
    "print(\"a4 = theta1+theta2 => sin(a4) = \",round(sin(theta1+theta2),precision))\n",
    "print()\n",
    "\n",
    "qreg = QuantumRegister(3) \n",
    "creg = ClassicalRegister(3) \n",
    "circuit = QuantumCircuit(qreg,creg)\n",
    "\n",
    "# controlled rotation when the third qubit is |1>\n",
    "circuit.cu3(2*theta1,0,0,qreg[2],qreg[0])\n",
    "\n",
    "# controlled rotation when the second qubit is |1>\n",
    "circuit.cu3(2*theta2,0,0,qreg[1],qreg[0])\n",
    "\n",
    "# controlled rotation when the third qubit is |0>\n",
    "circuit.x(qreg[2])\n",
    "circuit.cu3(2*theta3,0,0,qreg[2],qreg[0])\n",
    "circuit.x(qreg[2])\n",
    "\n",
    "# read the corresponding unitary matrix\n",
    "job = execute(circuit,Aer.get_backend('unitary_simulator'),optimization_level=0)\n",
    "unitary_matrix=job.result().get_unitary(circuit,decimals=precision)\n",
    "for i in range(len(unitary_matrix)):\n",
    "    s=\"\"\n",
    "    for j in range(len(unitary_matrix)):\n",
    "        val = str(unitary_matrix[i][j].real)\n",
    "        while(len(val)<precision+4): val  = \" \"+val\n",
    "        s = s + val\n",
    "    print(s)"
   ]
  },
  {
   "cell_type": "markdown",
   "metadata": {},
   "source": [
    "<a href=\"B76_Multiple_Rotations_Solutions.ipynb#task3\">click for our solution</a>"
   ]
  },
  {
   "cell_type": "markdown",
   "metadata": {},
   "source": [
    "<h3>Task 4</h3>\n",
    "\n",
    "Create a circuit for solving problem $ \\sf MOD_{31} $ by using the implementation in Task 3.\n",
    "\n",
    "Pick $ \\theta_1 $, $ \\theta_2 $, and $ \\theta_3 $ randomly.\n",
    "\n",
    "At the beginning of the stream and after reading the stream, apply Hadamard operators to each qubit.\n",
    "\n",
    "Execute your quantum program on the streams of lengths from 1 to 31."
   ]
  },
  {
   "cell_type": "code",
   "execution_count": 5,
   "metadata": {},
   "outputs": [
    {
     "name": "stdout",
     "output_type": "stream",
     "text": [
      "stream of length 1 is being read\n",
      "{'100': 21, '010': 2, '111': 962, '110': 14, '101': 1}\n",
      "000 is observed 0 times out of 1000\n",
      "the ration of 000 is  0.0 %\n",
      "\n",
      "stream of length 2 is being read\n",
      "{'100': 3, '001': 83, '010': 2, '011': 76, '000': 830, '101': 6}\n",
      "000 is observed 830 times out of 1000\n",
      "the ration of 000 is  83.0 %\n",
      "\n",
      "stream of length 3 is being read\n",
      "{'010': 12, '110': 154, '011': 6, '101': 37, '100': 154, '001': 8, '111': 628, '000': 1}\n",
      "000 is observed 1 times out of 1000\n",
      "the ration of 000 is  0.1 %\n",
      "\n",
      "stream of length 4 is being read\n",
      "{'010': 107, '110': 11, '011': 215, '101': 12, '100': 6, '001': 206, '111': 5, '000': 438}\n",
      "000 is observed 438 times out of 1000\n",
      "the ration of 000 is  43.8 %\n",
      "\n",
      "stream of length 5 is being read\n",
      "{'010': 14, '110': 237, '011': 11, '101': 214, '100': 258, '001': 17, '111': 239, '000': 10}\n",
      "000 is observed 10 times out of 1000\n",
      "the ration of 000 is  1.0 %\n",
      "\n",
      "stream of length 6 is being read\n",
      "{'010': 353, '110': 21, '011': 212, '101': 15, '100': 26, '001': 218, '111': 28, '000': 127}\n",
      "000 is observed 127 times out of 1000\n",
      "the ration of 000 is  12.7 %\n",
      "\n",
      "stream of length 7 is being read\n",
      "{'010': 9, '110': 153, '011': 23, '101': 528, '100': 158, '001': 18, '111': 46, '000': 65}\n",
      "000 is observed 65 times out of 1000\n",
      "the ration of 000 is  6.5 %\n",
      "\n",
      "stream of length 8 is being read\n",
      "{'010': 647, '110': 16, '011': 82, '101': 2, '100': 17, '001': 95, '111': 128, '000': 13}\n",
      "000 is observed 13 times out of 1000\n",
      "the ration of 000 is  1.3 %\n",
      "\n",
      "stream of length 9 is being read\n",
      "{'010': 1, '110': 20, '011': 8, '101': 764, '100': 36, '001': 7, '111': 1, '000': 163}\n",
      "000 is observed 163 times out of 1000\n",
      "the ration of 000 is  16.3 %\n",
      "\n",
      "stream of length 10 is being read\n",
      "{'001': 3, '010': 776, '111': 218, '110': 2, '011': 1}\n",
      "000 is observed 0 times out of 1000\n",
      "the ration of 000 is  0.0 %\n",
      "\n",
      "stream of length 11 is being read\n",
      "{'100': 9, '001': 6, '011': 7, '000': 253, '110': 10, '101': 715}\n",
      "000 is observed 253 times out of 1000\n",
      "the ration of 000 is  25.3 %\n",
      "\n",
      "stream of length 12 is being read\n",
      "{'010': 585, '110': 23, '011': 39, '101': 2, '100': 24, '001': 44, '111': 279, '000': 4}\n",
      "000 is observed 4 times out of 1000\n",
      "the ration of 000 is  0.4 %\n",
      "\n",
      "stream of length 13 is being read\n",
      "{'010': 6, '110': 75, '011': 55, '101': 458, '100': 91, '001': 50, '111': 15, '000': 250}\n",
      "000 is observed 250 times out of 1000\n",
      "the ration of 000 is  25.0 %\n",
      "\n",
      "stream of length 14 is being read\n",
      "{'010': 307, '110': 90, '011': 110, '101': 32, '100': 72, '001': 100, '111': 236, '000': 53}\n",
      "000 is observed 53 times out of 1000\n",
      "the ration of 000 is  5.3 %\n",
      "\n",
      "stream of length 15 is being read\n",
      "{'010': 105, '110': 148, '011': 121, '101': 191, '100': 104, '001': 103, '111': 76, '000': 152}\n",
      "000 is observed 152 times out of 1000\n",
      "the ration of 000 is  15.2 %\n",
      "\n",
      "stream of length 16 is being read\n",
      "{'010': 82, '110': 123, '011': 106, '101': 191, '100': 114, '001': 124, '111': 102, '000': 158}\n",
      "000 is observed 158 times out of 1000\n",
      "the ration of 000 is  15.8 %\n",
      "\n",
      "stream of length 17 is being read\n",
      "{'010': 294, '110': 82, '011': 116, '101': 36, '100': 92, '001': 120, '111': 217, '000': 43}\n",
      "000 is observed 43 times out of 1000\n",
      "the ration of 000 is  4.3 %\n",
      "\n",
      "stream of length 18 is being read\n",
      "{'010': 7, '110': 82, '011': 48, '101': 445, '100': 83, '001': 44, '111': 19, '000': 272}\n",
      "000 is observed 272 times out of 1000\n",
      "the ration of 000 is  27.2 %\n",
      "\n",
      "stream of length 19 is being read\n",
      "{'010': 578, '110': 21, '011': 42, '101': 3, '100': 24, '001': 33, '111': 295, '000': 4}\n",
      "000 is observed 4 times out of 1000\n",
      "the ration of 000 is  0.4 %\n",
      "\n",
      "stream of length 20 is being read\n",
      "{'100': 2, '001': 5, '000': 259, '110': 9, '101': 725}\n",
      "000 is observed 259 times out of 1000\n",
      "the ration of 000 is  25.9 %\n",
      "\n",
      "stream of length 21 is being read\n",
      "{'100': 1, '001': 1, '010': 754, '111': 244}\n",
      "000 is observed 0 times out of 1000\n",
      "the ration of 000 is  0.0 %\n",
      "\n",
      "stream of length 22 is being read\n",
      "{'010': 1, '110': 28, '011': 6, '101': 758, '100': 38, '001': 7, '111': 1, '000': 161}\n",
      "000 is observed 161 times out of 1000\n",
      "the ration of 000 is  16.1 %\n",
      "\n",
      "stream of length 23 is being read\n",
      "{'010': 638, '110': 15, '011': 104, '101': 3, '100': 21, '001': 91, '111': 120, '000': 8}\n",
      "000 is observed 8 times out of 1000\n",
      "the ration of 000 is  0.8 %\n",
      "\n",
      "stream of length 24 is being read\n",
      "{'010': 4, '110': 152, '011': 22, '101': 543, '100': 142, '001': 17, '111': 43, '000': 77}\n",
      "000 is observed 77 times out of 1000\n",
      "the ration of 000 is  7.7 %\n",
      "\n",
      "stream of length 25 is being read\n",
      "{'010': 366, '110': 23, '011': 201, '101': 17, '100': 24, '001': 218, '111': 40, '000': 111}\n",
      "000 is observed 111 times out of 1000\n",
      "the ration of 000 is  11.1 %\n",
      "\n",
      "stream of length 26 is being read\n",
      "{'010': 12, '110': 250, '011': 17, '101': 234, '100': 201, '001': 15, '111': 260, '000': 11}\n",
      "000 is observed 11 times out of 1000\n",
      "the ration of 000 is  1.1 %\n",
      "\n",
      "stream of length 27 is being read\n",
      "{'010': 109, '110': 4, '011': 227, '101': 14, '100': 7, '001': 221, '111': 6, '000': 412}\n",
      "000 is observed 412 times out of 1000\n",
      "the ration of 000 is  41.2 %\n",
      "\n",
      "stream of length 28 is being read\n",
      "{'010': 16, '110': 164, '011': 3, '101': 45, '100': 145, '001': 3, '111': 622, '000': 2}\n",
      "000 is observed 2 times out of 1000\n",
      "the ration of 000 is  0.2 %\n",
      "\n",
      "stream of length 29 is being read\n",
      "{'100': 1, '001': 78, '010': 4, '011': 85, '000': 825, '110': 1, '101': 6}\n",
      "000 is observed 825 times out of 1000\n",
      "the ration of 000 is  82.5 %\n",
      "\n",
      "stream of length 30 is being read\n",
      "{'100': 26, '110': 26, '111': 948}\n",
      "000 is observed 0 times out of 1000\n",
      "the ration of 000 is  0.0 %\n",
      "\n",
      "stream of length 31 is being read\n",
      "{'000': 1000}\n",
      "000 is observed 1000 times out of 1000\n",
      "the ration of 000 is  100.0 %\n",
      "\n",
      "maximum percentage of observing unwanted '000' is 83.0\n"
     ]
    }
   ],
   "source": [
    "from qiskit import QuantumRegister, ClassicalRegister, QuantumCircuit, execute, Aer\n",
    "from math import pi, sin, cos\n",
    "from random import randrange\n",
    "\n",
    "# the angle of rotation\n",
    "k1 = randrange(1,31)\n",
    "theta1 = k1*2*pi/31\n",
    "k2 = randrange(1,31)\n",
    "theta2 = k2*2*pi/31\n",
    "k3 = randrange(1,31)\n",
    "theta3 = k3*2*pi/31\n",
    "\n",
    "max_percentange = 0\n",
    "    \n",
    "# for each stream of length from 1 to 31\n",
    "for i in range(1,32):    \n",
    "    # initialize the circuit\n",
    "    qreg = QuantumRegister(3) \n",
    "    creg = ClassicalRegister(3) \n",
    "    circuit = QuantumCircuit(qreg,creg)\n",
    "    \n",
    "    # Hadamard operators before reading the stream\n",
    "    for m in range(3):\n",
    "        circuit.h(qreg[m])   \n",
    "        \n",
    "    # read the stream of length i\n",
    "    print(\"stream of length\",i,\"is being read\")\n",
    "    for j in range(i):    \n",
    "        # controlled rotation when the third qubit is |1>\n",
    "        circuit.cu3(2*theta1,0,0,qreg[2],qreg[0])\n",
    "\n",
    "        # controlled rotation when the second qubit is |1>\n",
    "        circuit.cu3(2*theta2,0,0,qreg[1],qreg[0])\n",
    "\n",
    "        # controlled rotation when the third qubit is |0>\n",
    "        circuit.x(qreg[2])\n",
    "        circuit.cu3(2*theta3,0,0,qreg[2],qreg[0])\n",
    "        circuit.x(qreg[2])\n",
    "        \n",
    "    # Hadamard operators after reading the stream\n",
    "    for m in range(3):\n",
    "        circuit.h(qreg[m])  \n",
    "    # we measure after reading the whole stream\n",
    "    circuit.measure(qreg,creg)\n",
    "    # execute the circuit N times\n",
    "    N = 1000\n",
    "    job = execute(circuit,Aer.get_backend('qasm_simulator'),shots=N)\n",
    "    counts = job.result().get_counts(circuit)\n",
    "    print(counts)\n",
    "    if '000' in counts.keys():\n",
    "        c = counts['000']\n",
    "    else:\n",
    "        c = 0\n",
    "    print('000 is observed',c,'times out of',N)\n",
    "    percentange = round(c/N*100,1)\n",
    "    if max_percentange < percentange and i != 31: max_percentange = percentange\n",
    "    print(\"the ration of 000 is \",percentange,\"%\")\n",
    "    print()  \n",
    "print(\"maximum percentage of observing unwanted '000' is\",max_percentange)"
   ]
  },
  {
   "cell_type": "markdown",
   "metadata": {},
   "source": [
    "<a href=\"B76_Multiple_Rotations_Solutions.ipynb#task4\">click for our solution</a>"
   ]
  },
  {
   "cell_type": "markdown",
   "metadata": {},
   "source": [
    "<h3>Task 5 (optional)</h3>\n",
    "\n",
    "Based on Task 4, design your own solution for problem $ \\sf MOD_{91} $ by using four qubits.\n",
    "\n",
    "Remark that up to 8 different rotations can be implemented by using four qubits."
   ]
  },
  {
   "cell_type": "code",
   "execution_count": null,
   "metadata": {},
   "outputs": [],
   "source": [
    "#\n",
    "# your solution is here\n",
    "#\n"
   ]
  },
  {
   "cell_type": "markdown",
   "metadata": {},
   "source": [
    "<h3> Main construction </h3>"
   ]
  },
  {
   "cell_type": "markdown",
   "metadata": {},
   "source": [
    "To implement an operator controlled by two qubits, we use an auxiliary qubit.\n",
    "\n",
    "Depending on the desired values of two qubits, the auxiliary qubit is flipped to $ \\ket{1} $ and then the operation is implemented controlled by the auxiliary qubit.\n",
    "\n",
    "Here we describe the case when the control qubits are in state $ \\ket{01} $. \n",
    "\n",
    "We also draw the circuit. "
   ]
  },
  {
   "cell_type": "code",
   "execution_count": null,
   "metadata": {},
   "outputs": [],
   "source": [
    "from qiskit import QuantumRegister, ClassicalRegister, QuantumCircuit, execute, Aer\n",
    "from math import pi\n",
    "\n",
    "# initialize the circuit\n",
    "qreg = QuantumRegister(4)  \n",
    "circuit = QuantumCircuit(qreg)\n",
    "\n",
    "# we use the fourth qubit as the auxiliary\n",
    "\n",
    "# apply a rotation to the first qubit when the third and second qubits are in states |0> and |1>\n",
    "# change the state of the third qubit to |1>\n",
    "circuit.x(qreg[2])\n",
    "# if both the third and second qubits are in states |1>, the state of auxiliary qubit is changed to |1> \n",
    "circuit.ccx(qreg[2],qreg[1],qreg[3])\n",
    "# the rotation is applied to the first qubit if the state of auxiliary qubit is |1>\n",
    "circuit.cu3(2*pi/6,0,0,qreg[3],qreg[0])\n",
    "# reverse the effects\n",
    "circuit.ccx(qreg[2],qreg[1],qreg[3])\n",
    "circuit.x(qreg[2])\n",
    "\n",
    "circuit.draw()"
   ]
  },
  {
   "cell_type": "markdown",
   "metadata": {},
   "source": [
    "Based on this idea, different rotation operators are applied to the first qubit when the third and second qubits are in $ \\ket{00} $, $ \\ket{01} $, $ \\ket{10} $, and $ \\ket{11} $. \n",
    "\n",
    "We present how to construct $ R(\\pi/10,2\\pi/10,3\\pi/10,4\\pi/10) $. "
   ]
  },
  {
   "cell_type": "code",
   "execution_count": null,
   "metadata": {},
   "outputs": [],
   "source": [
    "from qiskit import QuantumRegister, ClassicalRegister, QuantumCircuit, execute, Aer\n",
    "from math import pi,sin\n",
    "\n",
    "# the angles of rotations\n",
    "theta1 = pi/10\n",
    "theta2 = 2*pi/10\n",
    "theta3 = 3*pi/10\n",
    "theta4 = 4*pi/10\n",
    "\n",
    "# for verification, print sin(theta)'s\n",
    "print(\"sin(theta1) = \",round(sin(theta1),3))\n",
    "print(\"sin(theta2) = \",round(sin(theta2),3))\n",
    "print(\"sin(theta3) = \",round(sin(theta3),3))\n",
    "print(\"sin(theta4) = \",round(sin(theta4),3))\n",
    "print()\n",
    "\n",
    "qreg =  QuantumRegister(4) \n",
    "circuit = QuantumCircuit(qreg)\n",
    "\n",
    "# the third qubit is in |0>\n",
    "# the second qubit is in |0>\n",
    "circuit.x(qreg[2])\n",
    "circuit.x(qreg[1])\n",
    "circuit.ccx(qreg[2],qreg[1],qreg[3])\n",
    "circuit.cu3(2*theta1,0,0,qreg[3],qreg[0])\n",
    "# reverse the effects\n",
    "circuit.ccx(qreg[2],qreg[1],qreg[3])\n",
    "circuit.x(qreg[1])\n",
    "circuit.x(qreg[2])\n",
    "\n",
    "\n",
    "# the third qubit is in |0>\n",
    "# the second qubit is in |1>\n",
    "circuit.x(qreg[2])\n",
    "circuit.ccx(qreg[2],qreg[1],qreg[3])\n",
    "circuit.cu3(2*theta2,0,0,qreg[3],qreg[0])\n",
    "# reverse the effects\n",
    "circuit.ccx(qreg[2],qreg[1],qreg[3])\n",
    "circuit.x(qreg[2])\n",
    "\n",
    "# the third qubit is in |1>\n",
    "# the second qubit is in |0>\n",
    "circuit.x(qreg[1])\n",
    "circuit.ccx(qreg[2],qreg[1],qreg[3])\n",
    "circuit.cu3(2*theta3,0,0,qreg[3],qreg[0])\n",
    "# reverse the effects\n",
    "circuit.ccx(qreg[2],qreg[1],qreg[3])\n",
    "circuit.x(qreg[1])\n",
    "\n",
    "# the third qubit is in |1>\n",
    "# the second qubit is in |1>\n",
    "circuit.ccx(qreg[2],qreg[1],qreg[3])\n",
    "circuit.cu3(2*theta4,0,0,qreg[3],qreg[0])\n",
    "# reverse the effects\n",
    "circuit.ccx(qreg[2],qreg[1],qreg[3])\n",
    "\n",
    "# read the corresponding unitary matrix\n",
    "job = execute(circuit,Aer.get_backend('unitary_simulator'),optimization_level=0)\n",
    "unitary_matrix=job.result().get_unitary(circuit,decimals=3)\n",
    "for i in range(len(unitary_matrix)):\n",
    "    s=\"\"\n",
    "    for j in range(len(unitary_matrix)):\n",
    "        val = str(unitary_matrix[i][j].real)\n",
    "        while(len(val)<7): val  = \" \"+val\n",
    "        s = s + val\n",
    "    print(s)"
   ]
  },
  {
   "cell_type": "markdown",
   "metadata": {},
   "source": [
    "<b>Remarks:</b> \n",
    "\n",
    "The constructed matrix is bigger than our main matrix because of the auxiliary qubit.\n",
    "\n",
    "Our main matrix appears at the top-left quarter of the constructed matrix.\n",
    "\n",
    "The rest of the constructed matrix does not affect our computation unless the auxiliary qubit is set to state $ \\ket{1} $ (except the auxiliary operations)."
   ]
  },
  {
   "cell_type": "markdown",
   "metadata": {},
   "source": [
    "<h3>Task 6 (optional)</h3>\n",
    "\n",
    "Assume that $\\theta_1=\\frac{\\pi}{11}$, $\\theta_2=2\\frac{\\pi}{11}$, $\\theta_3=4\\frac{\\pi}{11}$, and $\\theta_4=8\\frac{\\pi}{11}$ are the given angles in the above construction.\n",
    "\n",
    "Calculate (by hand or in your mind) the angles of the rotations in the bottom-left quarter of the constructed matrix by following the construction steps."
   ]
  },
  {
   "cell_type": "markdown",
   "metadata": {},
   "source": [
    "<h3>Task 7</h3>\n",
    "\n",
    "Create a circuit for solving problem $ \\sf MOD_{61} $ by using the above implementation.\n",
    "\n",
    "Pick $ \\theta_1 $, $ \\theta_2 $, $ \\theta_3 $, and $ \\theta_4 $ randomly.\n",
    "\n",
    "At the beginning of the stream and after reading the stream, apply Hadamard operators to each qubit.\n",
    "\n",
    "Execute your quantum program on the streams of lengths 1, 11, 21, 31, 41, 51, and 61."
   ]
  },
  {
   "cell_type": "code",
   "execution_count": null,
   "metadata": {},
   "outputs": [],
   "source": [
    "#\n",
    "# your solution is here\n",
    "#\n"
   ]
  },
  {
   "cell_type": "markdown",
   "metadata": {},
   "source": [
    "<a href=\"B76_Multiple_Rotations_Solutions.ipynb#task7\">click for our solution</a>"
   ]
  },
  {
   "cell_type": "markdown",
   "metadata": {},
   "source": [
    "<h3>Task 8</h3>\n",
    "\n",
    "How many qubits we use to implement the main construction having 16 rotations in parallel?\n",
    "\n",
    "Please specify the number of control qubits and auxiliary qubits."
   ]
  },
  {
   "cell_type": "markdown",
   "metadata": {},
   "source": [
    "<a href=\"B76_Multiple_Rotations_Solutions.ipynb#task8\">click for our solution</a>"
   ]
  },
  {
   "cell_type": "markdown",
   "metadata": {},
   "source": [
    "<h3>Bonus (saving some qubits)</h3>\n",
    "\n",
    "We can use additional trick to save some qubits in our implementation. The idea relies on the following fact: if you apply a rotation between two NOT gates, the rotation will happen in the opposite direction.\n",
    "\n",
    "We can use this idea to implement a rotation by $\\theta$ in the following way:\n",
    "<ul>\n",
    "    <li>Rotate in the qubit by $\\frac{\\theta}{2}$;</li>\n",
    "    <li>Apply NOT to the qubit;</li>\n",
    "    <li>Rotate in the qubit by $-\\frac{\\theta}{2}$;</li>\n",
    "    <li>Apply NOT to the qubit.</li>\n",
    "</ul>\n",
    "\n",
    "As a result we will rotate in the qubit by $\\theta$. We can control NOT and rotation operations and perform a rotation only when all control qubits are in state 1, relying on the following simple facts:\n",
    "<ul>\n",
    "    <li>Two NOT gates result into identity operation;</li>\n",
    "    <li>Rotations by $\\frac{\\theta}{2}$ and $-\\frac{\\theta}{2}$  result into identity operation.</li>\n",
    "</ul>\n",
    "\n",
    "Below you can see the code that shows how can we use the discussed ideas to control rotations on one qubit by three qubits. If the state of at least one of the control qubits is 0, then the identity will be applied to the controlled qubit."
   ]
  },
  {
   "cell_type": "code",
   "execution_count": null,
   "metadata": {},
   "outputs": [],
   "source": [
    "from qiskit import QuantumRegister, ClassicalRegister, QuantumCircuit, execute, Aer\n",
    "from math import pi\n",
    "\n",
    "qreg11 =  QuantumRegister(4)\n",
    "creg11 = ClassicalRegister(4)\n",
    "\n",
    "theta = pi/4\n",
    "\n",
    "# define our quantum circuit\n",
    "mycircuit11 = QuantumCircuit(qreg11,creg11)\n",
    "\n",
    "def ccc_ry(angle,q1,q2,q3,q4):\n",
    "    mycircuit11.cu3(angle/2,0,0,q3,q4)\n",
    "    mycircuit11.ccx(q1,q2,q4)\n",
    "    mycircuit11.cu3(-angle/2,0,0,q3,q4)\n",
    "    mycircuit11.ccx(q1,q2,q4)\n",
    "    \n",
    "ccc_ry(2*theta,qreg11[3],qreg11[2],qreg11[1],qreg11[0])\n",
    "\n",
    "mycircuit11.draw(output='mpl')"
   ]
  },
  {
   "cell_type": "markdown",
   "metadata": {},
   "source": [
    "The code below demonstrates the implementation of 8 rotations with total 4 qubits, one of which is controlled by others."
   ]
  },
  {
   "cell_type": "code",
   "execution_count": null,
   "metadata": {},
   "outputs": [],
   "source": [
    "from qiskit import QuantumRegister, ClassicalRegister, QuantumCircuit, execute, Aer\n",
    "from math import pi\n",
    "\n",
    "qreg12 =  QuantumRegister(4)\n",
    "creg12 = ClassicalRegister(4)\n",
    "\n",
    "theta1 = pi/16\n",
    "theta2 = 2*pi/16\n",
    "theta3 = 3*pi/16\n",
    "theta4 = 4*pi/16\n",
    "theta5 = 5*pi/16\n",
    "theta6 = 6*pi/16\n",
    "theta7 = 7*pi/16\n",
    "theta8 = 8*pi/16\n",
    "\n",
    "# define our quantum circuit\n",
    "mycircuit12 = QuantumCircuit(qreg12,creg12)\n",
    "\n",
    "def ccc_ry(angle,q1,q2,q3,q4):\n",
    "    mycircuit12.cu3(angle/2,0,0,q3,q4)\n",
    "    mycircuit12.ccx(q1,q2,q4)\n",
    "    mycircuit12.cu3(-angle/2,0,0,q3,q4)\n",
    "    mycircuit12.ccx(q1,q2,q4)\n",
    "    \n",
    "mycircuit12.x(qreg12[3])\n",
    "mycircuit12.x(qreg12[2])\n",
    "mycircuit12.x(qreg12[1])\n",
    "ccc_ry(2*theta1,qreg12[3],qreg12[2],qreg12[1],qreg12[0])\n",
    "mycircuit12.x(qreg12[1])\n",
    "mycircuit12.x(qreg12[2])\n",
    "mycircuit12.x(qreg12[3])\n",
    "\n",
    "mycircuit12.x(qreg12[3])\n",
    "mycircuit12.x(qreg12[2])\n",
    "#mycircuit12.x(qreg12[1])\n",
    "ccc_ry(2*theta2,qreg12[3],qreg12[2],qreg12[1],qreg12[0])\n",
    "#mycircuit12.x(qreg12[1])\n",
    "mycircuit12.x(qreg12[2])\n",
    "mycircuit12.x(qreg12[3])\n",
    "\n",
    "mycircuit12.x(qreg12[3])\n",
    "#mycircuit12.x(qreg12[2])\n",
    "mycircuit12.x(qreg12[1])\n",
    "ccc_ry(2*theta3,qreg12[3],qreg12[2],qreg12[1],qreg12[0])\n",
    "mycircuit12.x(qreg12[1])\n",
    "#mycircuit12.x(qreg12[2])\n",
    "mycircuit12.x(qreg12[3])\n",
    "\n",
    "mycircuit12.x(qreg12[3])\n",
    "#mycircuit12.x(qreg12[2])\n",
    "#mycircuit12.x(qreg12[1])\n",
    "ccc_ry(2*theta4,qreg12[3],qreg12[2],qreg12[1],qreg12[0])\n",
    "#mycircuit12.x(qreg12[1])\n",
    "#mycircuit12.x(qreg12[2])\n",
    "mycircuit12.x(qreg12[3])\n",
    "\n",
    "#mycircuit12.x(qreg12[3])\n",
    "mycircuit12.x(qreg12[2])\n",
    "mycircuit12.x(qreg12[1])\n",
    "ccc_ry(2*theta5,qreg12[3],qreg12[2],qreg12[1],qreg12[0])\n",
    "mycircuit12.x(qreg12[1])\n",
    "mycircuit12.x(qreg12[2])\n",
    "#mycircuit12.x(qreg12[3])\n",
    "\n",
    "#mycircuit12.x(qreg12[3])\n",
    "mycircuit12.x(qreg12[2])\n",
    "#mycircuit12.x(qreg12[1])\n",
    "ccc_ry(2*theta6,qreg12[3],qreg12[2],qreg12[1],qreg12[0])\n",
    "#mycircuit12.x(qreg12[1])\n",
    "mycircuit12.x(qreg12[2])\n",
    "#mycircuit12.x(qreg12[3])\n",
    "\n",
    "#mycircuit12.x(qreg12[3])\n",
    "#mycircuit12.x(qreg12[2])\n",
    "mycircuit12.x(qreg12[1])\n",
    "ccc_ry(2*theta7,qreg12[3],qreg12[2],qreg12[1],qreg12[0])\n",
    "mycircuit12.x(qreg12[1])\n",
    "#mycircuit12.x(qreg12[2])\n",
    "#mycircuit12.x(qreg12[3])\n",
    "\n",
    "#mycircuit12.x(qreg12[3])\n",
    "#mycircuit12.x(qreg12[2])\n",
    "#mycircuit12.x(qreg12[1])\n",
    "ccc_ry(2*theta8,qreg12[3],qreg12[2],qreg12[1],qreg12[0])\n",
    "#mycircuit12.x(qreg12[1])\n",
    "#mycircuit12.x(qreg12[2])\n",
    "#mycircuit12.x(qreg12[3])\n",
    "\n",
    "job = execute(mycircuit12,Aer.get_backend('unitary_simulator'),optimization_level=0)\n",
    "u=job.result().get_unitary(mycircuit12,decimals=3)\n",
    "for i in range(len(u)):\n",
    "    s=\"\"\n",
    "    for j in range(len(u)):\n",
    "        val = str(u[i][j].real)\n",
    "        while(len(val)<7): val  = \" \"+val\n",
    "        s = s + val\n",
    "    print(s)"
   ]
  },
  {
   "cell_type": "markdown",
   "metadata": {},
   "source": [
    "<h3>Task 9</h3>\n",
    "\n",
    "By using the discussed ideas, how many qubits can we have to implement 16 rotations in parallel?\n",
    "\n",
    "Please specify the number of control qubits and auxiliary qubits."
   ]
  },
  {
   "cell_type": "markdown",
   "metadata": {},
   "source": [
    "<a href=\"B76_Multiple_Rotations_Solutions.ipynb#task9\">click for our solution</a>"
   ]
  },
  {
   "cell_type": "code",
   "execution_count": null,
   "metadata": {},
   "outputs": [],
   "source": []
  }
 ],
 "metadata": {
  "kernelspec": {
   "display_name": "Python 3",
   "language": "python",
   "name": "python3"
  },
  "language_info": {
   "codemirror_mode": {
    "name": "ipython",
    "version": 3
   },
   "file_extension": ".py",
   "mimetype": "text/x-python",
   "name": "python",
   "nbconvert_exporter": "python",
   "pygments_lexer": "ipython3",
   "version": "3.7.4"
  }
 },
 "nbformat": 4,
 "nbformat_minor": 2
}
