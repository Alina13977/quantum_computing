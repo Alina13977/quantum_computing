{
 "cells": [
  {
   "cell_type": "markdown",
   "metadata": {},
   "source": [
    "<table> <tr>\n",
    "        <td  style=\"background-color:#ffffff;\">\n",
    "            <a href=\"http://qworld.lu.lv\" target=\"_blank\"><img src=\"..\\images\\qworld.jpg\" width=\"25%\" align=\"left\"> </a></td>\n",
    "        <td style=\"background-color:#ffffff;vertical-align:bottom;text-align:right;\">\n",
    "            prepared by <a href=\"http://abu.lu.lv\" target=\"_blank\">Abuzer Yakaryilmaz</a> (<a href=\"http://qworld.lu.lv/index.php/qlatvia/\" target=\"_blank\">QLatvia</a>)\n",
    "        </td>        \n",
    "</tr></table>"
   ]
  },
  {
   "cell_type": "markdown",
   "metadata": {},
   "source": [
    "<table width=\"100%\"><tr><td style=\"color:#bbbbbb;background-color:#ffffff;font-size:11px;font-style:italic;text-align:right;\">This cell contains some macros. If there is a problem with displaying mathematical formulas, please run this cell to load these macros. </td></tr></table>\n",
    "$ \\newcommand{\\bra}[1]{\\langle #1|} $\n",
    "$ \\newcommand{\\ket}[1]{|#1\\rangle} $\n",
    "$ \\newcommand{\\braket}[2]{\\langle #1|#2\\rangle} $\n",
    "$ \\newcommand{\\dot}[2]{ #1 \\cdot #2} $\n",
    "$ \\newcommand{\\biginner}[2]{\\left\\langle #1,#2\\right\\rangle} $\n",
    "$ \\newcommand{\\mymatrix}[2]{\\left( \\begin{array}{#1} #2\\end{array} \\right)} $\n",
    "$ \\newcommand{\\myvector}[1]{\\mymatrix{c}{#1}} $\n",
    "$ \\newcommand{\\myrvector}[1]{\\mymatrix{r}{#1}} $\n",
    "$ \\newcommand{\\mypar}[1]{\\left( #1 \\right)} $\n",
    "$ \\newcommand{\\mybigpar}[1]{ \\Big( #1 \\Big)} $\n",
    "$ \\newcommand{\\sqrttwo}{\\frac{1}{\\sqrt{2}}} $\n",
    "$ \\newcommand{\\dsqrttwo}{\\dfrac{1}{\\sqrt{2}}} $\n",
    "$ \\newcommand{\\onehalf}{\\frac{1}{2}} $\n",
    "$ \\newcommand{\\donehalf}{\\dfrac{1}{2}} $\n",
    "$ \\newcommand{\\hadamard}{ \\mymatrix{rr}{ \\sqrttwo & \\sqrttwo \\\\ \\sqrttwo & -\\sqrttwo }} $\n",
    "$ \\newcommand{\\vzero}{\\myvector{1\\\\0}} $\n",
    "$ \\newcommand{\\vone}{\\myvector{0\\\\1}} $\n",
    "$ \\newcommand{\\stateplus}{\\myvector{ \\sqrttwo \\\\  \\sqrttwo } } $\n",
    "$ \\newcommand{\\stateminus}{ \\myrvector{ \\sqrttwo \\\\ -\\sqrttwo } } $\n",
    "$ \\newcommand{\\myarray}[2]{ \\begin{array}{#1}#2\\end{array}} $\n",
    "$ \\newcommand{\\X}{ \\mymatrix{cc}{0 & 1 \\\\ 1 & 0}  } $\n",
    "$ \\newcommand{\\I}{ \\mymatrix{rr}{1 & 0 \\\\ 0 & 1}  } $\n",
    "$ \\newcommand{\\Z}{ \\mymatrix{rr}{1 & 0 \\\\ 0 & -1}  } $\n",
    "$ \\newcommand{\\Htwo}{ \\mymatrix{rrrr}{ \\frac{1}{2} & \\frac{1}{2} & \\frac{1}{2} & \\frac{1}{2} \\\\ \\frac{1}{2} & -\\frac{1}{2} & \\frac{1}{2} & -\\frac{1}{2} \\\\ \\frac{1}{2} & \\frac{1}{2} & -\\frac{1}{2} & -\\frac{1}{2} \\\\ \\frac{1}{2} & -\\frac{1}{2} & -\\frac{1}{2} & \\frac{1}{2} } } $\n",
    "$ \\newcommand{\\CNOT}{ \\mymatrix{cccc}{1 & 0 & 0 & 0 \\\\ 0 & 1 & 0 & 0 \\\\ 0 & 0 & 0 & 1 \\\\ 0 & 0 & 1 & 0} } $\n",
    "$ \\newcommand{\\norm}[1]{ \\left\\lVert #1 \\right\\rVert } $\n",
    "$ \\newcommand{\\pstate}[1]{ \\lceil \\mspace{-1mu} #1 \\mspace{-1.5mu} \\rfloor } $"
   ]
  },
  {
   "cell_type": "markdown",
   "metadata": {},
   "source": [
    "<h2>Phase Kickback</h2>\n",
    "\n",
    "We observe another interesting quantum effect here.\n",
    "\n",
    "We apply a Controlled-NOT operator, but the controller qubit will be affected!"
   ]
  },
  {
   "cell_type": "markdown",
   "metadata": {},
   "source": [
    "<h3> Task 1</h3>\n",
    "\n",
    "Create a quantum circuit with two qubits, say $ q[1] $ and $ q[0] $ in the reading order of Qiskit.\n",
    "\n",
    "We start in quantum state $ \\ket{01} $:\n",
    "- set the state of $ q[1] $ to $ \\ket{0} $, and\n",
    "- set the state of $ q[0] $ to $ \\ket{1} $.\n",
    "\n",
    "Apply Hadamard to both qubits.\n",
    "\n",
    "Apply CNOT operator, where the controller qubit is $ q[1] $ and the target qubit is $ q[0] $.\n",
    "\n",
    "Apply Hadamard to both qubits.\n",
    "\n",
    "Measure the outcomes."
   ]
  },
  {
   "cell_type": "code",
   "execution_count": 2,
   "metadata": {},
   "outputs": [
    {
     "data": {
      "image/png": "[encoded data removed]",
      "text/plain": [
       "<Figure size 599.592x204.68 with 1 Axes>"
      ]
     },
     "metadata": {},
     "output_type": "display_data"
    },
    {
     "name": "stdout",
     "output_type": "stream",
     "text": [
      "{'11': 100}\n"
     ]
    }
   ],
   "source": [
    "from qiskit import QuantumRegister, ClassicalRegister, QuantumCircuit, execute, Aer\n",
    "\n",
    "q =  QuantumRegister(2,\"q\") \n",
    "c = ClassicalRegister(2,\"c\") \n",
    "\n",
    "qc = QuantumCircuit(q,c) \n",
    "\n",
    "\n",
    "# set the down qubit to |1>\n",
    "qc.x(q[0]) # apply x-gate (NOT operator)\n",
    "\n",
    "qc.barrier()\n",
    "\n",
    "# apply Hadamard to both qubits.\n",
    "qc.h(q[0])\n",
    "qc.h(q[1])\n",
    "\n",
    "# apply CNOT operator\n",
    "qc.cx(1,0)\n",
    "\n",
    "# apply Hadamard to both qubits.\n",
    "qc.h(q[0])\n",
    "qc.h(q[1])\n",
    "\n",
    "# measure both qubits\n",
    "qc.measure(q,c)\n",
    "\n",
    "# draw the circuit in Qiskit reading order\n",
    "display(qc.draw(output='mpl',reverse_bits=True))\n",
    "\n",
    "# execute the circuit 100 times in the local simulator\n",
    "job = execute(qc,Aer.get_backend('qasm_simulator'),shots=100)\n",
    "counts = job.result().get_counts(qc)\n",
    "print(counts)\n"
   ]
  },
  {
   "cell_type": "markdown",
   "metadata": {},
   "source": [
    "<a href=\"B52_Phase_Kickback_Solutions.ipynb#task1\">click for our solution</a>"
   ]
  },
  {
   "cell_type": "markdown",
   "metadata": {},
   "source": [
    "<h3> The effect of CNOT </h3>\n",
    "\n",
    "The quantum state of the up qubit before CNOT:\n",
    "\n",
    "$$\n",
    "    \\ket{0} \\xrightarrow{H} \\frac{1}{\\sqrt{2}} \\ket{0} + \\frac{1}{\\sqrt{2}} \\ket{1}.\n",
    "$$\n",
    "\n",
    "The quantum state of the down qubit before CNOT:\n",
    "\n",
    "$$\n",
    "    \\ket{1} \\xrightarrow{H} \\frac{1}{\\sqrt{2}} \\ket{0} - \\frac{1}{\\sqrt{2}} \\ket{1}.\n",
    "$$"
   ]
  },
  {
   "cell_type": "markdown",
   "metadata": {},
   "source": [
    "The quantum state of the composite system:\n",
    "\n",
    "$$\n",
    "   \\mypar{ \\frac{1}{\\sqrt{2}} \\ket{0} + \\frac{1}{\\sqrt{2}} \\ket{1} } \n",
    "   \\otimes\n",
    "   \\mypar{ \\frac{1}{\\sqrt{2}} \\ket{0} - \\frac{1}{\\sqrt{2}} \\ket{1}  }\n",
    "$$"
   ]
  },
  {
   "cell_type": "markdown",
   "metadata": {},
   "source": [
    "CNOT affects when the up qubit has the value 1.\n",
    "\n",
    "Let's rewrite the composite state as below to explicitly represent the effect of CNOT.\n",
    "\n",
    "$$\n",
    "     \\frac{1}{\\sqrt{2}} \\ket{0} \\otimes \\mypar{ \\frac{1}{\\sqrt{2}} \\ket{0} - \\frac{1}{\\sqrt{2}} \\ket{1}  }\n",
    "     +\n",
    "     \\frac{1}{\\sqrt{2}} \\ket{1} \\otimes \\mypar{ \\frac{1}{\\sqrt{2}} \\ket{0} - \\frac{1}{\\sqrt{2}} \\ket{1}  }\n",
    "$$"
   ]
  },
  {
   "cell_type": "markdown",
   "metadata": {},
   "source": [
    "CNOT flips the state of the down qubit.\n",
    "\n",
    "After CNOT, we have:\n",
    "\n",
    "$$\n",
    "     \\frac{1}{\\sqrt{2}} \\ket{0} \\otimes \\mypar{ \\frac{1}{\\sqrt{2}} \\ket{0} - \\frac{1}{\\sqrt{2}} \\ket{1}  }\n",
    "     +\n",
    "     \\frac{1}{\\sqrt{2}} \\ket{1} \\otimes \\mypar{ \\frac{1}{\\sqrt{2}} \\ket{1} - \\frac{1}{\\sqrt{2}} \\ket{0}  }\n",
    "$$\n",
    "\n",
    "Remark that $\\ket{0}$ and $ \\ket{1} $ are swapped in the second qubit.\n",
    "\n",
    "If we write the quantum state of the down qubit as before, the sign of $ \\ket{1} $ in the up qubit should be flipped.\n",
    "\n",
    "Thus the last equation can be equivalently written as follows:\n",
    "\n",
    "$$\n",
    "     \\frac{1}{\\sqrt{2}} \\ket{0} \\otimes \\mypar{ \\frac{1}{\\sqrt{2}} \\ket{0} - \\frac{1}{\\sqrt{2}} \\ket{1}  }\n",
    "     -\n",
    "     \\frac{1}{\\sqrt{2}} \\ket{1} \\otimes \\mypar{ \\frac{1}{\\sqrt{2}} \\ket{0} - \\frac{1}{\\sqrt{2}} \\ket{1}  }\n",
    "$$"
   ]
  },
  {
   "cell_type": "markdown",
   "metadata": {},
   "source": [
    "Before CNOT operator, the sign of $ \\ket{1} $ in the up qubit is positive. \n",
    "    \n",
    "After CNOT operator, its sign changes to negative.\n",
    "\n",
    "This is called <b>phase kickback</b>."
   ]
  },
  {
   "cell_type": "markdown",
   "metadata": {},
   "source": [
    "<h3> After CNOT </h3>\n",
    "\n",
    "It is easy to see from the last expression, that the quantum states of the qubits are separable (no correlation):\n",
    "\n",
    "$$\n",
    "   \\mypar{ \\frac{1}{\\sqrt{2}} \\ket{0} - \\frac{1}{\\sqrt{2}} \\ket{1} } \n",
    "   \\otimes\n",
    "   \\mypar{ \\frac{1}{\\sqrt{2}} \\ket{0} - \\frac{1}{\\sqrt{2}} \\ket{1}  }\n",
    "$$\n",
    "\n",
    "If we apply Hadamard to each qubit, both qubits evolve to state $ \\ket{1} $.\n",
    "\n",
    "The final state is $ \\ket{11} $."
   ]
  },
  {
   "cell_type": "markdown",
   "metadata": {},
   "source": [
    "<h3> Task 2 </h3>\n",
    "\n",
    "Create a curcuit with 7 qubits, say $ q[6],\\ldots,q[0] $ in the reading order of Qiskit.\n",
    "\n",
    "Set the states of the top six qubits to $ \\ket{0} $.\n",
    "\n",
    "Set the state of the bottom qubit to $ \\ket{1} $.\n",
    "\n",
    "Apply Hadamard operators to all qubits.\n",
    "\n",
    "Apply CNOT operator ($q[1]$,$q[0]$) \n",
    "<br>\n",
    "Apply CNOT operator ($q[4]$,$q[0]$) \n",
    "<br>\n",
    "Apply CNOT operator ($q[5]$,$q[0]$) \n",
    "\n",
    "Apply Hadamard operators to all qubits.\n",
    "\n",
    "Measure all qubits. \n",
    "\n",
    "For each CNOT operator, is there a phase-kickback effect?"
   ]
  },
  {
   "cell_type": "code",
   "execution_count": 4,
   "metadata": {},
   "outputs": [
    {
     "data": {
      "image/png": "[encoded data removed]",
      "text/plain": [
       "<Figure size 1201.59x505.68 with 1 Axes>"
      ]
     },
     "metadata": {},
     "output_type": "display_data"
    },
    {
     "name": "stdout",
     "output_type": "stream",
     "text": [
      "{'0110011': 1000}\n"
     ]
    }
   ],
   "source": [
    "# import all necessary objects and methods for quantum circuits\n",
    "from qiskit import QuantumRegister, ClassicalRegister, QuantumCircuit, execute, Aer\n",
    "\n",
    "# 7 qubits.\n",
    "q =  QuantumRegister(7,\"q\") \n",
    "c = ClassicalRegister(7) \n",
    "\n",
    "qc = QuantumCircuit(q,c) \n",
    "\n",
    "\n",
    "\n",
    "# set the bottom qubit to |1>\n",
    "qc.x(0) # apply x-gate (NOT operator)\n",
    "\n",
    "# define a barrier\n",
    "qc.barrier()\n",
    "\n",
    "# apply Hadamard to all qubits.\n",
    "for i in range(7):\n",
    "    qc.h(q[i])\n",
    "\n",
    "    # define a barrier\n",
    "qc.barrier()\n",
    "\n",
    "\n",
    "# apply CNOT operator (q[1],q[0]) \n",
    "# apply CNOT operator (q[4],q[0]) \n",
    "# apply CNOT operator (q[5],q[0]) \n",
    "qc.cx(q[1],q[0])\n",
    "qc.cx(q[4],q[0])\n",
    "qc.cx(q[5],q[0])\n",
    "\n",
    "# define a barrier\n",
    "qc.barrier()\n",
    "\n",
    "\n",
    "# apply Hadamard to all qubits.\n",
    "for i in range(7):\n",
    "    qc.h(q[i])\n",
    "\n",
    "# define a barrier\n",
    "qc.barrier()\n",
    "\n",
    "# measure all qubits\n",
    "qc.measure(q,c)\n",
    "\n",
    "# draw the circuit in Qiskit reading order\n",
    "display(qc.draw(output='mpl',reverse_bits=True))\n",
    "\n",
    "# execute the circuit 100 times in the local simulator\n",
    "job = execute(qc,Aer.get_backend('qasm_simulator'),shots=1000)\n",
    "counts = job.result().get_counts(qc)\n",
    "print(counts)"
   ]
  },
  {
   "cell_type": "markdown",
   "metadata": {},
   "source": [
    "<a href=\"B52_Phase_Kickback_Solutions.ipynb#task2\">click for our solution</a>"
   ]
  }
 ],
 "metadata": {
  "kernelspec": {
   "display_name": "Python 3",
   "language": "python",
   "name": "python3"
  },
  "language_info": {
   "codemirror_mode": {
    "name": "ipython",
    "version": 3
   },
   "file_extension": ".py",
   "mimetype": "text/x-python",
   "name": "python",
   "nbconvert_exporter": "python",
   "pygments_lexer": "ipython3",
   "version": "3.7.4"
  }
 },
 "nbformat": 4,
 "nbformat_minor": 2
}
